{
 "cells": [
  {
   "cell_type": "markdown",
   "metadata": {},
   "source": [
    "### Практическое задание"
   ]
  },
  {
   "cell_type": "markdown",
   "metadata": {},
   "source": [
    "### * Домашнее задание: Многоклассовая классификация"
   ]
  },
  {
   "cell_type": "markdown",
   "metadata": {},
   "source": [
    "#### Построить модель градиентного бустинга для показателя частоты страховых убытков. Можно предобработать исходные данные, добавив дополнительные фичи. Также можно использовать различные методы для подбора гиперпараметров. Оценить результаты построенного классификатора, выявить возможные проблемы. Сравнить результаты с полученным ранее результатом с использованием Пуассоновской регрессии. Проанализировать результаты, предложить способы решения обнаруженных проблем и/или попробовать его улучшить."
   ]
  },
  {
   "cell_type": "code",
   "execution_count": 1,
   "metadata": {},
   "outputs": [],
   "source": [
    "import pandas as pd\n",
    "import numpy as np\n",
    "import xgboost as xgb\n",
    "import matplotlib.pyplot as plt\n",
    "from sklearn.model_selection import train_test_split\n",
    "from sklearn.metrics import f1_score, accuracy_score, confusion_matrix\n",
    "from hyperopt import hp, tpe, space_eval\n",
    "from hyperopt.fmin import fmin\n",
    "\n",
    "def SeriesFactorizer(series):\n",
    "    series, unique = pd.factorize(series)\n",
    "    reference = {x: i for x, i in enumerate(unique)}\n",
    "    print(reference)\n",
    "    return series, reference"
   ]
  },
  {
   "cell_type": "code",
   "execution_count": 2,
   "metadata": {},
   "outputs": [],
   "source": [
    "df = pd.read_csv('freMPL-R.csv', low_memory=False)"
   ]
  },
  {
   "cell_type": "code",
   "execution_count": 3,
   "metadata": {},
   "outputs": [
    {
     "name": "stdout",
     "output_type": "stream",
     "text": [
      "<class 'pandas.core.frame.DataFrame'>\n",
      "RangeIndex: 115155 entries, 0 to 115154\n",
      "Data columns (total 20 columns):\n",
      " #   Column             Non-Null Count   Dtype  \n",
      "---  ------             --------------   -----  \n",
      " 0   Exposure           115155 non-null  float64\n",
      " 1   LicAge             115155 non-null  int64  \n",
      " 2   RecordBeg          115155 non-null  object \n",
      " 3   RecordEnd          59455 non-null   object \n",
      " 4   Gender             115155 non-null  object \n",
      " 5   MariStat           115155 non-null  object \n",
      " 6   SocioCateg         115155 non-null  object \n",
      " 7   VehUsage           115155 non-null  object \n",
      " 8   DrivAge            115155 non-null  int64  \n",
      " 9   HasKmLimit         115155 non-null  int64  \n",
      " 10  BonusMalus         115155 non-null  int64  \n",
      " 11  ClaimAmount        115155 non-null  float64\n",
      " 12  ClaimInd           115155 non-null  int64  \n",
      " 13  ClaimNbResp        115155 non-null  float64\n",
      " 14  ClaimNbNonResp     115155 non-null  float64\n",
      " 15  ClaimNbParking     115155 non-null  float64\n",
      " 16  ClaimNbFireTheft   115155 non-null  float64\n",
      " 17  ClaimNbWindscreen  115155 non-null  float64\n",
      " 18  OutUseNb           115155 non-null  float64\n",
      " 19  RiskArea           115155 non-null  float64\n",
      "dtypes: float64(9), int64(5), object(6)\n",
      "memory usage: 17.6+ MB\n"
     ]
    }
   ],
   "source": [
    "df = df.loc[df.Dataset.isin([5, 6, 7, 8, 9])]\n",
    "df.drop('Dataset', axis=1, inplace=True)\n",
    "df.dropna(axis=1, how='all', inplace=True)\n",
    "df.drop_duplicates(inplace=True)\n",
    "df.reset_index(drop=True, inplace=True)\n",
    "df.info()"
   ]
  },
  {
   "cell_type": "markdown",
   "metadata": {},
   "source": [
    "Предобработайте данные"
   ]
  },
  {
   "cell_type": "code",
   "execution_count": 4,
   "metadata": {},
   "outputs": [
    {
     "name": "stdout",
     "output_type": "stream",
     "text": [
      "Unique values of ClaimInd: [0]\n"
     ]
    },
    {
     "data": {
      "text/html": [
       "<div>\n",
       "<style scoped>\n",
       "    .dataframe tbody tr th:only-of-type {\n",
       "        vertical-align: middle;\n",
       "    }\n",
       "\n",
       "    .dataframe tbody tr th {\n",
       "        vertical-align: top;\n",
       "    }\n",
       "\n",
       "    .dataframe thead th {\n",
       "        text-align: right;\n",
       "    }\n",
       "</style>\n",
       "<table border=\"1\" class=\"dataframe\">\n",
       "  <thead>\n",
       "    <tr style=\"text-align: right;\">\n",
       "      <th></th>\n",
       "      <th>ClaimAmount</th>\n",
       "      <th>ClaimInd</th>\n",
       "    </tr>\n",
       "  </thead>\n",
       "  <tbody>\n",
       "    <tr>\n",
       "      <th>82</th>\n",
       "      <td>-74.206042</td>\n",
       "      <td>0</td>\n",
       "    </tr>\n",
       "    <tr>\n",
       "      <th>175</th>\n",
       "      <td>-1222.585196</td>\n",
       "      <td>0</td>\n",
       "    </tr>\n",
       "    <tr>\n",
       "      <th>177</th>\n",
       "      <td>-316.288822</td>\n",
       "      <td>0</td>\n",
       "    </tr>\n",
       "    <tr>\n",
       "      <th>363</th>\n",
       "      <td>-666.758610</td>\n",
       "      <td>0</td>\n",
       "    </tr>\n",
       "    <tr>\n",
       "      <th>375</th>\n",
       "      <td>-1201.600604</td>\n",
       "      <td>0</td>\n",
       "    </tr>\n",
       "  </tbody>\n",
       "</table>\n",
       "</div>"
      ],
      "text/plain": [
       "     ClaimAmount  ClaimInd\n",
       "82    -74.206042         0\n",
       "175 -1222.585196         0\n",
       "177  -316.288822         0\n",
       "363  -666.758610         0\n",
       "375 -1201.600604         0"
      ]
     },
     "execution_count": 4,
     "metadata": {},
     "output_type": "execute_result"
    }
   ],
   "source": [
    "NegClaimAmount = df.loc[df.ClaimAmount < 0, ['ClaimAmount','ClaimInd']]\n",
    "print('Unique values of ClaimInd:', NegClaimAmount.ClaimInd.unique())\n",
    "NegClaimAmount.head()"
   ]
  },
  {
   "cell_type": "code",
   "execution_count": 5,
   "metadata": {},
   "outputs": [],
   "source": [
    "df.loc[df.ClaimAmount < 0, 'ClaimAmount'] = 0"
   ]
  },
  {
   "cell_type": "code",
   "execution_count": 6,
   "metadata": {},
   "outputs": [
    {
     "name": "stdout",
     "output_type": "stream",
     "text": [
      "{0: 'Male', 1: 'Female'}\n"
     ]
    }
   ],
   "source": [
    "df.Gender, GenderRef = SeriesFactorizer(df.Gender)"
   ]
  },
  {
   "cell_type": "code",
   "execution_count": 7,
   "metadata": {},
   "outputs": [
    {
     "name": "stdout",
     "output_type": "stream",
     "text": [
      "{0: 'Other', 1: 'Alone'}\n"
     ]
    }
   ],
   "source": [
    "df.MariStat, MariStatRef = SeriesFactorizer(df.MariStat)"
   ]
  },
  {
   "cell_type": "code",
   "execution_count": 8,
   "metadata": {},
   "outputs": [
    {
     "data": {
      "text/plain": [
       "['Professional', 'Private+trip to office', 'Private', 'Professional run']"
      ]
     },
     "execution_count": 8,
     "metadata": {},
     "output_type": "execute_result"
    }
   ],
   "source": [
    "list(df.VehUsage.unique())"
   ]
  },
  {
   "cell_type": "code",
   "execution_count": 9,
   "metadata": {},
   "outputs": [
    {
     "data": {
      "text/html": [
       "<div>\n",
       "<style scoped>\n",
       "    .dataframe tbody tr th:only-of-type {\n",
       "        vertical-align: middle;\n",
       "    }\n",
       "\n",
       "    .dataframe tbody tr th {\n",
       "        vertical-align: top;\n",
       "    }\n",
       "\n",
       "    .dataframe thead th {\n",
       "        text-align: right;\n",
       "    }\n",
       "</style>\n",
       "<table border=\"1\" class=\"dataframe\">\n",
       "  <thead>\n",
       "    <tr style=\"text-align: right;\">\n",
       "      <th></th>\n",
       "      <th>VehUsg_Private</th>\n",
       "      <th>VehUsg_Private+trip to office</th>\n",
       "      <th>VehUsg_Professional</th>\n",
       "      <th>VehUsg_Professional run</th>\n",
       "    </tr>\n",
       "  </thead>\n",
       "  <tbody>\n",
       "    <tr>\n",
       "      <th>0</th>\n",
       "      <td>0</td>\n",
       "      <td>0</td>\n",
       "      <td>1</td>\n",
       "      <td>0</td>\n",
       "    </tr>\n",
       "    <tr>\n",
       "      <th>1</th>\n",
       "      <td>0</td>\n",
       "      <td>0</td>\n",
       "      <td>1</td>\n",
       "      <td>0</td>\n",
       "    </tr>\n",
       "    <tr>\n",
       "      <th>2</th>\n",
       "      <td>0</td>\n",
       "      <td>1</td>\n",
       "      <td>0</td>\n",
       "      <td>0</td>\n",
       "    </tr>\n",
       "    <tr>\n",
       "      <th>3</th>\n",
       "      <td>0</td>\n",
       "      <td>1</td>\n",
       "      <td>0</td>\n",
       "      <td>0</td>\n",
       "    </tr>\n",
       "    <tr>\n",
       "      <th>4</th>\n",
       "      <td>1</td>\n",
       "      <td>0</td>\n",
       "      <td>0</td>\n",
       "      <td>0</td>\n",
       "    </tr>\n",
       "  </tbody>\n",
       "</table>\n",
       "</div>"
      ],
      "text/plain": [
       "   VehUsg_Private  VehUsg_Private+trip to office  VehUsg_Professional  \\\n",
       "0               0                              0                    1   \n",
       "1               0                              0                    1   \n",
       "2               0                              1                    0   \n",
       "3               0                              1                    0   \n",
       "4               1                              0                    0   \n",
       "\n",
       "   VehUsg_Professional run  \n",
       "0                        0  \n",
       "1                        0  \n",
       "2                        0  \n",
       "3                        0  \n",
       "4                        0  "
      ]
     },
     "execution_count": 9,
     "metadata": {},
     "output_type": "execute_result"
    }
   ],
   "source": [
    "VU_dummies = pd.get_dummies(df.VehUsage, prefix='VehUsg', drop_first=False)\n",
    "VU_dummies.head()"
   ]
  },
  {
   "cell_type": "code",
   "execution_count": 10,
   "metadata": {},
   "outputs": [],
   "source": [
    "df['SocioCateg'] = df.SocioCateg.str.slice(0,4)"
   ]
  },
  {
   "cell_type": "code",
   "execution_count": 11,
   "metadata": {},
   "outputs": [
    {
     "data": {
      "text/html": [
       "<div>\n",
       "<style scoped>\n",
       "    .dataframe tbody tr th:only-of-type {\n",
       "        vertical-align: middle;\n",
       "    }\n",
       "\n",
       "    .dataframe tbody tr th {\n",
       "        vertical-align: top;\n",
       "    }\n",
       "\n",
       "    .dataframe thead th {\n",
       "        text-align: right;\n",
       "    }\n",
       "</style>\n",
       "<table border=\"1\" class=\"dataframe\">\n",
       "  <thead>\n",
       "    <tr style=\"text-align: right;\">\n",
       "      <th></th>\n",
       "      <th>Frequency</th>\n",
       "    </tr>\n",
       "  </thead>\n",
       "  <tbody>\n",
       "    <tr>\n",
       "      <th>CSP7</th>\n",
       "      <td>14</td>\n",
       "    </tr>\n",
       "    <tr>\n",
       "      <th>CSP3</th>\n",
       "      <td>1210</td>\n",
       "    </tr>\n",
       "    <tr>\n",
       "      <th>CSP1</th>\n",
       "      <td>2740</td>\n",
       "    </tr>\n",
       "    <tr>\n",
       "      <th>CSP2</th>\n",
       "      <td>3254</td>\n",
       "    </tr>\n",
       "    <tr>\n",
       "      <th>CSP4</th>\n",
       "      <td>7648</td>\n",
       "    </tr>\n",
       "    <tr>\n",
       "      <th>CSP6</th>\n",
       "      <td>24833</td>\n",
       "    </tr>\n",
       "    <tr>\n",
       "      <th>CSP5</th>\n",
       "      <td>75456</td>\n",
       "    </tr>\n",
       "  </tbody>\n",
       "</table>\n",
       "</div>"
      ],
      "text/plain": [
       "      Frequency\n",
       "CSP7         14\n",
       "CSP3       1210\n",
       "CSP1       2740\n",
       "CSP2       3254\n",
       "CSP4       7648\n",
       "CSP6      24833\n",
       "CSP5      75456"
      ]
     },
     "execution_count": 11,
     "metadata": {},
     "output_type": "execute_result"
    }
   ],
   "source": [
    "pd.DataFrame(df.SocioCateg.value_counts().sort_values()).rename({'SocioCateg': 'Frequency'}, axis=1)"
   ]
  },
  {
   "cell_type": "code",
   "execution_count": 12,
   "metadata": {},
   "outputs": [],
   "source": [
    "df = pd.get_dummies(df, columns=['VehUsage','SocioCateg'])"
   ]
  },
  {
   "cell_type": "code",
   "execution_count": 13,
   "metadata": {},
   "outputs": [],
   "source": [
    "df = df.select_dtypes(exclude=['object'])"
   ]
  },
  {
   "cell_type": "code",
   "execution_count": 14,
   "metadata": {},
   "outputs": [
    {
     "data": {
      "text/html": [
       "<div>\n",
       "<style scoped>\n",
       "    .dataframe tbody tr th:only-of-type {\n",
       "        vertical-align: middle;\n",
       "    }\n",
       "\n",
       "    .dataframe tbody tr th {\n",
       "        vertical-align: top;\n",
       "    }\n",
       "\n",
       "    .dataframe thead th {\n",
       "        text-align: right;\n",
       "    }\n",
       "</style>\n",
       "<table border=\"1\" class=\"dataframe\">\n",
       "  <thead>\n",
       "    <tr style=\"text-align: right;\">\n",
       "      <th></th>\n",
       "      <th>Exposure</th>\n",
       "      <th>LicAge</th>\n",
       "      <th>Gender</th>\n",
       "      <th>MariStat</th>\n",
       "      <th>DrivAge</th>\n",
       "      <th>HasKmLimit</th>\n",
       "      <th>BonusMalus</th>\n",
       "      <th>ClaimAmount</th>\n",
       "      <th>ClaimInd</th>\n",
       "      <th>ClaimNbResp</th>\n",
       "      <th>...</th>\n",
       "      <th>VehUsage_Professional</th>\n",
       "      <th>VehUsage_Professional run</th>\n",
       "      <th>SocioCateg_CSP1</th>\n",
       "      <th>SocioCateg_CSP2</th>\n",
       "      <th>SocioCateg_CSP3</th>\n",
       "      <th>SocioCateg_CSP4</th>\n",
       "      <th>SocioCateg_CSP5</th>\n",
       "      <th>SocioCateg_CSP6</th>\n",
       "      <th>SocioCateg_CSP7</th>\n",
       "      <th>DrivAgeSq</th>\n",
       "    </tr>\n",
       "  </thead>\n",
       "  <tbody>\n",
       "    <tr>\n",
       "      <th>0</th>\n",
       "      <td>0.083</td>\n",
       "      <td>332</td>\n",
       "      <td>0</td>\n",
       "      <td>0</td>\n",
       "      <td>46</td>\n",
       "      <td>0</td>\n",
       "      <td>50</td>\n",
       "      <td>0.0</td>\n",
       "      <td>0</td>\n",
       "      <td>0.0</td>\n",
       "      <td>...</td>\n",
       "      <td>1</td>\n",
       "      <td>0</td>\n",
       "      <td>0</td>\n",
       "      <td>0</td>\n",
       "      <td>0</td>\n",
       "      <td>0</td>\n",
       "      <td>1</td>\n",
       "      <td>0</td>\n",
       "      <td>0</td>\n",
       "      <td>2116</td>\n",
       "    </tr>\n",
       "    <tr>\n",
       "      <th>1</th>\n",
       "      <td>0.916</td>\n",
       "      <td>333</td>\n",
       "      <td>0</td>\n",
       "      <td>0</td>\n",
       "      <td>46</td>\n",
       "      <td>0</td>\n",
       "      <td>50</td>\n",
       "      <td>0.0</td>\n",
       "      <td>0</td>\n",
       "      <td>0.0</td>\n",
       "      <td>...</td>\n",
       "      <td>1</td>\n",
       "      <td>0</td>\n",
       "      <td>0</td>\n",
       "      <td>0</td>\n",
       "      <td>0</td>\n",
       "      <td>0</td>\n",
       "      <td>1</td>\n",
       "      <td>0</td>\n",
       "      <td>0</td>\n",
       "      <td>2116</td>\n",
       "    </tr>\n",
       "    <tr>\n",
       "      <th>2</th>\n",
       "      <td>0.550</td>\n",
       "      <td>173</td>\n",
       "      <td>0</td>\n",
       "      <td>0</td>\n",
       "      <td>32</td>\n",
       "      <td>0</td>\n",
       "      <td>68</td>\n",
       "      <td>0.0</td>\n",
       "      <td>0</td>\n",
       "      <td>0.0</td>\n",
       "      <td>...</td>\n",
       "      <td>0</td>\n",
       "      <td>0</td>\n",
       "      <td>0</td>\n",
       "      <td>0</td>\n",
       "      <td>0</td>\n",
       "      <td>0</td>\n",
       "      <td>1</td>\n",
       "      <td>0</td>\n",
       "      <td>0</td>\n",
       "      <td>1024</td>\n",
       "    </tr>\n",
       "    <tr>\n",
       "      <th>3</th>\n",
       "      <td>0.089</td>\n",
       "      <td>364</td>\n",
       "      <td>1</td>\n",
       "      <td>0</td>\n",
       "      <td>52</td>\n",
       "      <td>0</td>\n",
       "      <td>50</td>\n",
       "      <td>0.0</td>\n",
       "      <td>0</td>\n",
       "      <td>0.0</td>\n",
       "      <td>...</td>\n",
       "      <td>0</td>\n",
       "      <td>0</td>\n",
       "      <td>0</td>\n",
       "      <td>0</td>\n",
       "      <td>0</td>\n",
       "      <td>0</td>\n",
       "      <td>1</td>\n",
       "      <td>0</td>\n",
       "      <td>0</td>\n",
       "      <td>2704</td>\n",
       "    </tr>\n",
       "    <tr>\n",
       "      <th>4</th>\n",
       "      <td>0.233</td>\n",
       "      <td>426</td>\n",
       "      <td>0</td>\n",
       "      <td>0</td>\n",
       "      <td>57</td>\n",
       "      <td>0</td>\n",
       "      <td>50</td>\n",
       "      <td>0.0</td>\n",
       "      <td>0</td>\n",
       "      <td>0.0</td>\n",
       "      <td>...</td>\n",
       "      <td>0</td>\n",
       "      <td>0</td>\n",
       "      <td>0</td>\n",
       "      <td>0</td>\n",
       "      <td>0</td>\n",
       "      <td>0</td>\n",
       "      <td>0</td>\n",
       "      <td>1</td>\n",
       "      <td>0</td>\n",
       "      <td>3249</td>\n",
       "    </tr>\n",
       "  </tbody>\n",
       "</table>\n",
       "<p>5 rows × 28 columns</p>\n",
       "</div>"
      ],
      "text/plain": [
       "   Exposure  LicAge  Gender  MariStat  DrivAge  HasKmLimit  BonusMalus  \\\n",
       "0     0.083     332       0         0       46           0          50   \n",
       "1     0.916     333       0         0       46           0          50   \n",
       "2     0.550     173       0         0       32           0          68   \n",
       "3     0.089     364       1         0       52           0          50   \n",
       "4     0.233     426       0         0       57           0          50   \n",
       "\n",
       "   ClaimAmount  ClaimInd  ClaimNbResp  ...  VehUsage_Professional  \\\n",
       "0          0.0         0          0.0  ...                      1   \n",
       "1          0.0         0          0.0  ...                      1   \n",
       "2          0.0         0          0.0  ...                      0   \n",
       "3          0.0         0          0.0  ...                      0   \n",
       "4          0.0         0          0.0  ...                      0   \n",
       "\n",
       "   VehUsage_Professional run  SocioCateg_CSP1  SocioCateg_CSP2  \\\n",
       "0                          0                0                0   \n",
       "1                          0                0                0   \n",
       "2                          0                0                0   \n",
       "3                          0                0                0   \n",
       "4                          0                0                0   \n",
       "\n",
       "   SocioCateg_CSP3  SocioCateg_CSP4  SocioCateg_CSP5  SocioCateg_CSP6  \\\n",
       "0                0                0                1                0   \n",
       "1                0                0                1                0   \n",
       "2                0                0                1                0   \n",
       "3                0                0                1                0   \n",
       "4                0                0                0                1   \n",
       "\n",
       "   SocioCateg_CSP7  DrivAgeSq  \n",
       "0                0       2116  \n",
       "1                0       2116  \n",
       "2                0       1024  \n",
       "3                0       2704  \n",
       "4                0       3249  \n",
       "\n",
       "[5 rows x 28 columns]"
      ]
     },
     "execution_count": 14,
     "metadata": {},
     "output_type": "execute_result"
    }
   ],
   "source": [
    "df['DrivAgeSq'] = df.DrivAge.apply(lambda x: x**2)\n",
    "df.head()"
   ]
  },
  {
   "cell_type": "code",
   "execution_count": 15,
   "metadata": {},
   "outputs": [],
   "source": [
    "df['ClaimsCount'] = df.ClaimInd + df.ClaimNbResp + df.ClaimNbNonResp + df.ClaimNbParking + df.ClaimNbFireTheft + df.ClaimNbWindscreen\n",
    "df.loc[df.ClaimAmount == 0, 'ClaimsCount'] = 0\n",
    "df.drop([\"ClaimNbResp\", \"ClaimNbNonResp\", \"ClaimNbParking\", \"ClaimNbFireTheft\", \"ClaimNbWindscreen\"], axis=1, inplace=True)"
   ]
  },
  {
   "cell_type": "code",
   "execution_count": 16,
   "metadata": {},
   "outputs": [
    {
     "data": {
      "text/html": [
       "<div>\n",
       "<style scoped>\n",
       "    .dataframe tbody tr th:only-of-type {\n",
       "        vertical-align: middle;\n",
       "    }\n",
       "\n",
       "    .dataframe tbody tr th {\n",
       "        vertical-align: top;\n",
       "    }\n",
       "\n",
       "    .dataframe thead th {\n",
       "        text-align: right;\n",
       "    }\n",
       "</style>\n",
       "<table border=\"1\" class=\"dataframe\">\n",
       "  <thead>\n",
       "    <tr style=\"text-align: right;\">\n",
       "      <th></th>\n",
       "      <th>Policies</th>\n",
       "    </tr>\n",
       "  </thead>\n",
       "  <tbody>\n",
       "    <tr>\n",
       "      <th>0.0</th>\n",
       "      <td>104286</td>\n",
       "    </tr>\n",
       "    <tr>\n",
       "      <th>2.0</th>\n",
       "      <td>3529</td>\n",
       "    </tr>\n",
       "    <tr>\n",
       "      <th>1.0</th>\n",
       "      <td>3339</td>\n",
       "    </tr>\n",
       "    <tr>\n",
       "      <th>3.0</th>\n",
       "      <td>2310</td>\n",
       "    </tr>\n",
       "    <tr>\n",
       "      <th>4.0</th>\n",
       "      <td>1101</td>\n",
       "    </tr>\n",
       "    <tr>\n",
       "      <th>5.0</th>\n",
       "      <td>428</td>\n",
       "    </tr>\n",
       "    <tr>\n",
       "      <th>6.0</th>\n",
       "      <td>127</td>\n",
       "    </tr>\n",
       "    <tr>\n",
       "      <th>7.0</th>\n",
       "      <td>26</td>\n",
       "    </tr>\n",
       "    <tr>\n",
       "      <th>8.0</th>\n",
       "      <td>6</td>\n",
       "    </tr>\n",
       "    <tr>\n",
       "      <th>9.0</th>\n",
       "      <td>2</td>\n",
       "    </tr>\n",
       "    <tr>\n",
       "      <th>11.0</th>\n",
       "      <td>1</td>\n",
       "    </tr>\n",
       "  </tbody>\n",
       "</table>\n",
       "</div>"
      ],
      "text/plain": [
       "      Policies\n",
       "0.0     104286\n",
       "2.0       3529\n",
       "1.0       3339\n",
       "3.0       2310\n",
       "4.0       1101\n",
       "5.0        428\n",
       "6.0        127\n",
       "7.0         26\n",
       "8.0          6\n",
       "9.0          2\n",
       "11.0         1"
      ]
     },
     "execution_count": 16,
     "metadata": {},
     "output_type": "execute_result"
    }
   ],
   "source": [
    "pd.DataFrame(df.ClaimsCount.value_counts()).rename({'ClaimsCount': 'Policies'}, axis=1)"
   ]
  },
  {
   "cell_type": "code",
   "execution_count": 17,
   "metadata": {},
   "outputs": [],
   "source": [
    "dfAC = df[df.ClaimsCount > 0].copy()\n",
    "dfAC['AvgClaim'] = dfAC.ClaimAmount/dfAC.ClaimsCount"
   ]
  },
  {
   "cell_type": "code",
   "execution_count": 18,
   "metadata": {},
   "outputs": [
    {
     "name": "stdout",
     "output_type": "stream",
     "text": [
      "<class 'pandas.core.frame.DataFrame'>\n",
      "RangeIndex: 115155 entries, 0 to 115154\n",
      "Data columns (total 24 columns):\n",
      " #   Column                           Non-Null Count   Dtype  \n",
      "---  ------                           --------------   -----  \n",
      " 0   Exposure                         115155 non-null  float64\n",
      " 1   LicAge                           115155 non-null  int64  \n",
      " 2   Gender                           115155 non-null  int64  \n",
      " 3   MariStat                         115155 non-null  int64  \n",
      " 4   DrivAge                          115155 non-null  int64  \n",
      " 5   HasKmLimit                       115155 non-null  int64  \n",
      " 6   BonusMalus                       115155 non-null  int64  \n",
      " 7   ClaimAmount                      115155 non-null  float64\n",
      " 8   ClaimInd                         115155 non-null  int64  \n",
      " 9   OutUseNb                         115155 non-null  float64\n",
      " 10  RiskArea                         115155 non-null  float64\n",
      " 11  VehUsage_Private                 115155 non-null  uint8  \n",
      " 12  VehUsage_Private+trip to office  115155 non-null  uint8  \n",
      " 13  VehUsage_Professional            115155 non-null  uint8  \n",
      " 14  VehUsage_Professional run        115155 non-null  uint8  \n",
      " 15  SocioCateg_CSP1                  115155 non-null  uint8  \n",
      " 16  SocioCateg_CSP2                  115155 non-null  uint8  \n",
      " 17  SocioCateg_CSP3                  115155 non-null  uint8  \n",
      " 18  SocioCateg_CSP4                  115155 non-null  uint8  \n",
      " 19  SocioCateg_CSP5                  115155 non-null  uint8  \n",
      " 20  SocioCateg_CSP6                  115155 non-null  uint8  \n",
      " 21  SocioCateg_CSP7                  115155 non-null  uint8  \n",
      " 22  DrivAgeSq                        115155 non-null  int64  \n",
      " 23  ClaimsCount                      115155 non-null  float64\n",
      "dtypes: float64(5), int64(8), uint8(11)\n",
      "memory usage: 12.6 MB\n"
     ]
    }
   ],
   "source": [
    "df.info()"
   ]
  },
  {
   "cell_type": "markdown",
   "metadata": {},
   "source": [
    "XGBoost для многоклассовой классификации принимает на вход значения меток классов в виде [0, num_classes]. Заменим значение 11 на 10."
   ]
  },
  {
   "cell_type": "code",
   "execution_count": 19,
   "metadata": {},
   "outputs": [],
   "source": [
    "df.loc[df.ClaimsCount > 10, 'ClaimsCount'] = 10"
   ]
  },
  {
   "cell_type": "markdown",
   "metadata": {},
   "source": [
    "Посмотрим, сколько полисов соответствуют каждому из значений ClaimsCount, используя метод groupby. Для полученных значений также посчитаем нормированную частоту."
   ]
  },
  {
   "cell_type": "code",
   "execution_count": 20,
   "metadata": {},
   "outputs": [],
   "source": [
    "FreqCount = pd.DataFrame(df.groupby('ClaimsCount').size(), columns=['Count'])\n",
    "FreqCount['Freq'] = FreqCount.Count / np.sum(FreqCount.Count)"
   ]
  },
  {
   "cell_type": "code",
   "execution_count": 21,
   "metadata": {},
   "outputs": [
    {
     "data": {
      "image/png": "[encoded data removed]",
      "text/plain": [
       "<Figure size 432x288 with 1 Axes>"
      ]
     },
     "metadata": {
      "needs_background": "light"
     },
     "output_type": "display_data"
    }
   ],
   "source": [
    "FreqCount.Freq.plot(kind='bar')\n",
    "plt.ylabel('Frequency')\n",
    "plt.show()"
   ]
  },
  {
   "cell_type": "code",
   "execution_count": 22,
   "metadata": {},
   "outputs": [
    {
     "data": {
      "text/html": [
       "<div>\n",
       "<style scoped>\n",
       "    .dataframe tbody tr th:only-of-type {\n",
       "        vertical-align: middle;\n",
       "    }\n",
       "\n",
       "    .dataframe tbody tr th {\n",
       "        vertical-align: top;\n",
       "    }\n",
       "\n",
       "    .dataframe thead th {\n",
       "        text-align: right;\n",
       "    }\n",
       "</style>\n",
       "<table border=\"1\" class=\"dataframe\">\n",
       "  <thead>\n",
       "    <tr style=\"text-align: right;\">\n",
       "      <th></th>\n",
       "      <th>Count</th>\n",
       "      <th>Freq</th>\n",
       "    </tr>\n",
       "    <tr>\n",
       "      <th>ClaimsCount</th>\n",
       "      <th></th>\n",
       "      <th></th>\n",
       "    </tr>\n",
       "  </thead>\n",
       "  <tbody>\n",
       "    <tr>\n",
       "      <th>0.0</th>\n",
       "      <td>104286</td>\n",
       "      <td>0.905614</td>\n",
       "    </tr>\n",
       "    <tr>\n",
       "      <th>1.0</th>\n",
       "      <td>3339</td>\n",
       "      <td>0.028996</td>\n",
       "    </tr>\n",
       "    <tr>\n",
       "      <th>2.0</th>\n",
       "      <td>3529</td>\n",
       "      <td>0.030646</td>\n",
       "    </tr>\n",
       "    <tr>\n",
       "      <th>3.0</th>\n",
       "      <td>2310</td>\n",
       "      <td>0.020060</td>\n",
       "    </tr>\n",
       "    <tr>\n",
       "      <th>4.0</th>\n",
       "      <td>1101</td>\n",
       "      <td>0.009561</td>\n",
       "    </tr>\n",
       "    <tr>\n",
       "      <th>5.0</th>\n",
       "      <td>428</td>\n",
       "      <td>0.003717</td>\n",
       "    </tr>\n",
       "    <tr>\n",
       "      <th>6.0</th>\n",
       "      <td>127</td>\n",
       "      <td>0.001103</td>\n",
       "    </tr>\n",
       "    <tr>\n",
       "      <th>7.0</th>\n",
       "      <td>26</td>\n",
       "      <td>0.000226</td>\n",
       "    </tr>\n",
       "    <tr>\n",
       "      <th>8.0</th>\n",
       "      <td>6</td>\n",
       "      <td>0.000052</td>\n",
       "    </tr>\n",
       "    <tr>\n",
       "      <th>9.0</th>\n",
       "      <td>2</td>\n",
       "      <td>0.000017</td>\n",
       "    </tr>\n",
       "    <tr>\n",
       "      <th>10.0</th>\n",
       "      <td>1</td>\n",
       "      <td>0.000009</td>\n",
       "    </tr>\n",
       "  </tbody>\n",
       "</table>\n",
       "</div>"
      ],
      "text/plain": [
       "              Count      Freq\n",
       "ClaimsCount                  \n",
       "0.0          104286  0.905614\n",
       "1.0            3339  0.028996\n",
       "2.0            3529  0.030646\n",
       "3.0            2310  0.020060\n",
       "4.0            1101  0.009561\n",
       "5.0             428  0.003717\n",
       "6.0             127  0.001103\n",
       "7.0              26  0.000226\n",
       "8.0               6  0.000052\n",
       "9.0               2  0.000017\n",
       "10.0              1  0.000009"
      ]
     },
     "execution_count": 22,
     "metadata": {},
     "output_type": "execute_result"
    }
   ],
   "source": [
    "FreqCount"
   ]
  },
  {
   "cell_type": "markdown",
   "metadata": {},
   "source": [
    "Заметим, что в данном случае присутствует проблема несбалансированности классов. Поэтому, для того, чтобы по возможности избежать ее, воспользуемся взвешиванием наблюдений для обучения модели. Для этого в исходном наборе данных создадим столбец weight. Присвоим ему некоторые значения, например, можно задать 0.05 для значений ClaimsCount 0, а для остальных - 1 (Для этого можем использовать функцию np.where). Также можно попробовать какой-либо другой способ задания весов, приведенный пример не гарантирует хороших результатов."
   ]
  },
  {
   "cell_type": "code",
   "execution_count": 23,
   "metadata": {},
   "outputs": [],
   "source": [
    "df['weight'] = np.where(df.ClaimsCount < 1, 0.05, 1)"
   ]
  },
  {
   "cell_type": "markdown",
   "metadata": {},
   "source": [
    "Разобьем имеющийся набор данных на обучающую, валидационную и тестовую выборки в отношениях 70%/15%/15% соответственно. Зададим зерно для случайного разбиения равным 10."
   ]
  },
  {
   "cell_type": "code",
   "execution_count": 24,
   "metadata": {},
   "outputs": [],
   "source": [
    "x_train, x_test, y_train, y_test = train_test_split(df.drop(['ClaimInd', 'ClaimAmount', 'ClaimsCount'], axis=1), df.ClaimsCount, test_size=0.3, random_state=10)\n",
    "x_valid, x_test, y_valid, y_test = train_test_split(x_test, y_test, test_size=0.5, random_state=10)"
   ]
  },
  {
   "cell_type": "markdown",
   "metadata": {},
   "source": [
    "Далее, создадим объекты DMatrix для обучающей, валидационной и тестовой выборок. Для обучающей выборки также укажем параметр weight равным полученному ранее столбцу весов. Данный столбец также нужно исключить из объекта передаваемого в параметр data."
   ]
  },
  {
   "cell_type": "code",
   "execution_count": 25,
   "metadata": {},
   "outputs": [],
   "source": [
    "xgb_train = xgb.DMatrix(data=x_train.drop(['Exposure', 'weight'], axis=1), label=y_train.astype('int'), weight=x_train[['weight']])\n",
    "xgb_valid = xgb.DMatrix(data=x_valid.drop(['Exposure', 'weight'], axis=1), label=y_valid.astype('int'))\n",
    "xgb_test = xgb.DMatrix(data=x_test.drop(['Exposure', 'weight'], axis=1), label=y_test.astype('int'))"
   ]
  },
  {
   "cell_type": "markdown",
   "metadata": {},
   "source": [
    "Для оптимизации гиперпараметров можно воспользоваться различными методами."
   ]
  },
  {
   "cell_type": "code",
   "execution_count": 26,
   "metadata": {},
   "outputs": [],
   "source": [
    "from skll.metrics import kappa\n",
    "\n",
    "def kappa_metric(preds, dtrain):\n",
    "    labels = dtrain.get_label()\n",
    "    return 'kappa', -kappa(labels, preds, weights='quadratic')"
   ]
  },
  {
   "cell_type": "code",
   "execution_count": 27,
   "metadata": {},
   "outputs": [],
   "source": [
    "# Определим функцию для оптимизации гиперпараметров алгоритмом TPE\n",
    "\n",
    "def objective(params):\n",
    "    \"\"\"\n",
    "    Objective function for hyperopt. Optimizing mean cross-validation error with XGBoost.\n",
    "\n",
    "    :param params: dict object passed to hyperopt fmin() function\n",
    "    :return: float, mean cross-validation error for XGBoost utilizing params\n",
    "    \"\"\"\n",
    "    params['max_depth'] = int(params['max_depth'])\n",
    "    n_b_r = int(params.pop('num_boost_round'))\n",
    "    data = params.pop('data')\n",
    "    feval = params.pop('feval')\n",
    "    nfold = params.pop('nfold')\n",
    "    e_s_r = params.pop('early_stopping_rounds')\n",
    "    maximize = params.pop('maximize')\n",
    "    cv_result = xgb.cv(params, data, num_boost_round=n_b_r, nfold=nfold, seed=0, maximize=maximize,\n",
    "                       feval=feval, early_stopping_rounds=e_s_r)\n",
    "    name, _ = feval(data.get_label(), data)\n",
    "    score = cv_result['test-{}-mean'.format(name)][-1:].values[0]\n",
    "    return score"
   ]
  },
  {
   "cell_type": "code",
   "execution_count": 28,
   "metadata": {},
   "outputs": [],
   "source": [
    "# Определим границы, в которых будем искать гиперпараметры\n",
    "\n",
    "space_freq = {'data': xgb_train,\n",
    "              'objective': 'multi:softmax',\n",
    "              'num_class': 11,\n",
    "              'feval': kappa_metric,\n",
    "              'maximize': False,\n",
    "              'nfold': 5,\n",
    "              'early_stopping_rounds': 20,\n",
    "              'num_boost_round': 300,  # hp.choice('num_boost_round', [50, 300, 500])\n",
    "              'max_depth': hp.choice('max_depth', [5, 8, 10, 12, 15]),\n",
    "              'min_child_weight': hp.uniform('min_child_weight', 0, 50),\n",
    "              'subsample': hp.uniform('subsample', 0.5, 1),\n",
    "              'colsample_bytree': hp.uniform('colsample_bytree', 0.5, 1),\n",
    "              'alpha': hp.uniform('alpha', 0, 1),\n",
    "              'lambda': hp.uniform('lambda', 0, 1),\n",
    "              'eta': hp.uniform('eta', 0.01, 1),\n",
    "              }"
   ]
  },
  {
   "cell_type": "code",
   "execution_count": 29,
   "metadata": {},
   "outputs": [
    {
     "name": "stdout",
     "output_type": "stream",
     "text": [
      "100%|██████████| 10/10 [29:03<00:00, 174.31s/trial, best loss: -0.0499468]          \n"
     ]
    }
   ],
   "source": [
    "# Оптимизация (количество итераций снижено для ускорения работы)\n",
    "\n",
    "best = fmin(fn=objective, space=space_freq, algo=tpe.suggest, max_evals=10)"
   ]
  },
  {
   "cell_type": "code",
   "execution_count": 30,
   "metadata": {},
   "outputs": [
    {
     "data": {
      "text/plain": [
       "{'alpha': 0.6976324505061747,\n",
       " 'colsample_bytree': 0.5298664568422999,\n",
       " 'data': <xgboost.core.DMatrix at 0x1a1e352a10>,\n",
       " 'early_stopping_rounds': 20,\n",
       " 'eta': 0.8703227868951413,\n",
       " 'feval': <function __main__.kappa_metric(preds, dtrain)>,\n",
       " 'lambda': 0.3303837513689101,\n",
       " 'max_depth': 8,\n",
       " 'maximize': False,\n",
       " 'min_child_weight': 7.070583033238381,\n",
       " 'nfold': 5,\n",
       " 'num_boost_round': 300,\n",
       " 'num_class': 11,\n",
       " 'objective': 'multi:softmax',\n",
       " 'subsample': 0.9265121137325198}"
      ]
     },
     "execution_count": 30,
     "metadata": {},
     "output_type": "execute_result"
    }
   ],
   "source": [
    "# Оптимальные гиперпараметры \n",
    "\n",
    "best_params = space_eval(space_freq, best)\n",
    "best_params"
   ]
  },
  {
   "cell_type": "markdown",
   "metadata": {},
   "source": [
    "Далее обучим нашу модель с оптимальными параметрами"
   ]
  },
  {
   "cell_type": "code",
   "execution_count": 31,
   "metadata": {},
   "outputs": [],
   "source": [
    "def train_xgb_best_params(params, dtrain, evals, early_stopping_rounds, evals_result=None, verbose_eval=None):\n",
    "    \"\"\"\n",
    "    Function to train XGBoost estimator from set of parameters, passed from hyperopt.\n",
    "\n",
    "    :param params: dict, hyperparameters from hyperopt space_eval() function\n",
    "    :param dtrain: xgb.DMatrix object, to train model on\n",
    "    :param evals: list of pairs (DMatrix, str). Same from xgb.train().\n",
    "    :param early_stopping_rounds: int. Same from xgb.train().\n",
    "    :param evals_result: dict. Same from xgb.train().\n",
    "    :param verbose_eval: bool or int. Same from xgb.train().\n",
    "    :return: xgb.Booster object, trained model\n",
    "    \"\"\"\n",
    "    par = params.copy()\n",
    "    for label in ['nfold', 'data', 'early_stopping_rounds']:\n",
    "        del par[label]\n",
    "    n_b_r = int(par.pop('num_boost_round'))\n",
    "    maximize = par.pop('maximize')\n",
    "    feval = par.pop('feval')\n",
    "    return xgb.train(params=par, dtrain=dtrain, num_boost_round=n_b_r, evals=evals, feval=feval, maximize=maximize,\n",
    "                     early_stopping_rounds=early_stopping_rounds, evals_result=evals_result, verbose_eval=verbose_eval)\n",
    "\n"
   ]
  },
  {
   "cell_type": "code",
   "execution_count": 32,
   "metadata": {},
   "outputs": [],
   "source": [
    "# Построение модели с ранней остановкой (early stopping)\n",
    "\n",
    "progress = dict()\n",
    "xgb_multiclass = train_xgb_best_params(best_params, xgb_train, [(xgb_train, \"train\"), (xgb_valid, \"valid\")], early_stopping_rounds=10, evals_result=progress, verbose_eval=False)"
   ]
  },
  {
   "cell_type": "markdown",
   "metadata": {},
   "source": [
    "Посчитаем метрики accuracy и f1 на наших наборах данных, также можем визуализировать confusion matrix, например, с помощью plt.imshow(). Можно использовать предложенный ниже код."
   ]
  },
  {
   "cell_type": "code",
   "execution_count": 33,
   "metadata": {},
   "outputs": [
    {
     "name": "stdout",
     "output_type": "stream",
     "text": [
      "F1 Score on train: 0.6744739976181024\n",
      "F1 Score on valid: 0.6456319110750883\n",
      "F1 Score on test: 0.645594535139516\n"
     ]
    }
   ],
   "source": [
    "dfsets = [{'set': 'train', 'dmat': xgb_train, 'target': y_train},\n",
    "          {'set': 'valid', 'dmat': xgb_valid, 'target': y_valid},\n",
    "          {'set': 'test', 'dmat': xgb_test, 'target': y_test}]\n",
    "for dfset in dfsets:\n",
    "    class_preds = xgb_multiclass.predict(dfset['dmat']) # Посчитаем предсказанные значения\n",
    "    print('F1 Score on ' + str(dfset['set'])+':', f1_score(dfset['target'], class_preds, average='micro')) # Посчитаем F1 Score"
   ]
  },
  {
   "cell_type": "code",
   "execution_count": 34,
   "metadata": {},
   "outputs": [
    {
     "data": {
      "image/png": "[encoded data removed]",
      "text/plain": [
       "<Figure size 1080x216 with 6 Axes>"
      ]
     },
     "metadata": {
      "needs_background": "light"
     },
     "output_type": "display_data"
    }
   ],
   "source": [
    "plt.subplots(1,3, figsize=(15,3))\n",
    "for i in range(len(dfsets)):\n",
    "    confmatrix = confusion_matrix(dfsets[i]['target'], xgb_multiclass.predict(dfsets[i]['dmat']))\n",
    "    plt.subplot(1,3,i+1)\n",
    "    plt.imshow(confmatrix, cmap='Greys')\n",
    "    plt.colorbar()\n",
    "    plt.ylabel('True')\n",
    "    plt.xlabel('Predicted')\n",
    "plt.show()"
   ]
  },
  {
   "cell_type": "markdown",
   "metadata": {},
   "source": [
    "Как вы оцениваете качество построенной модели? Какие проблемы могут здесь присутствовать? Как можно улучшить результат?"
   ]
  },
  {
   "cell_type": "markdown",
   "metadata": {},
   "source": [
    "Качество полученной модели получилось посредственным. Одной из наиболее важных проблем, по моему мнению, здесь является сильный дисбаланс классов, так как у нас подавляющее большинство объектов класса 0, мало объектов класса 1-3 и очень мало объектов класса 4-10. Как варинат, можно данную задачу свести к меньшему числу классов и/или использовать статистический методики для over-/down- sampling."
   ]
  },
  {
   "cell_type": "code",
   "execution_count": null,
   "metadata": {},
   "outputs": [],
   "source": []
  }
 ],
 "metadata": {
  "kernelspec": {
   "display_name": "Python 3",
   "language": "python",
   "name": "python3"
  },
  "language_info": {
   "codemirror_mode": {
    "name": "ipython",
    "version": 3
   },
   "file_extension": ".py",
   "mimetype": "text/x-python",
   "name": "python",
   "nbconvert_exporter": "python",
   "pygments_lexer": "ipython3",
   "version": "3.7.7"
  }
 },
 "nbformat": 4,
 "nbformat_minor": 4
}
